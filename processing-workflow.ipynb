{
 "cells": [
  {
   "cell_type": "markdown",
   "metadata": {},
   "source": [
    "# Workflow processing notebook\n",
    "\n",
    "The IIASA Scenario Explorer processing infrastructure uses the Python packages **pyam** and **nomenclature**.\n",
    "\n",
    "Visit https://pyam-iamc.readthedocs.io and https://nomenclature-iamc.readthedocs.io for more information."
   ]
  },
  {
   "cell_type": "code",
   "execution_count": null,
   "metadata": {},
   "outputs": [],
   "source": [
    "import pyam\n",
    "from workflow import main as workflow"
   ]
  },
  {
   "cell_type": "markdown",
   "metadata": {},
   "source": [
    "## Load data file and run the workflow\n",
    "\n",
    "Replace `<file>` by the file name which you want to validate prior to upload to the IIASA Scenario Explorer.\n",
    "\n",
    "If the following cell simply prints a summary/overview of the data file, the processing workflow passed as expected.  \n",
    "Otherwise, please read the error messages and update the file accordingly.\n",
    "\n",
    "The returned IamDataFrame *df* has the renamed and aggregated regions,\n",
    "if a region-mapping exists for the model(s) in the [mappings](mappings) folder."
   ]
  },
  {
   "cell_type": "code",
   "execution_count": null,
   "metadata": {},
   "outputs": [],
   "source": [
    "df = workflow(pyam.IamDataFrame(\"<file>\"))\n",
    "df"
   ]
  },
  {
   "cell_type": "code",
   "execution_count": null,
   "metadata": {},
   "outputs": [],
   "source": []
  }
 ],
 "metadata": {
  "kernelspec": {
   "display_name": "Python 3 (ipykernel)",
   "language": "python",
   "name": "python3"
  },
  "language_info": {
   "codemirror_mode": {
    "name": "ipython",
    "version": 3
   },
   "file_extension": ".py",
   "mimetype": "text/x-python",
   "name": "python",
   "nbconvert_exporter": "python",
   "pygments_lexer": "ipython3",
   "version": "3.9.7"
  },
  "latex_envs": {
   "LaTeX_envs_menu_present": true,
   "autoclose": false,
   "autocomplete": true,
   "bibliofile": "biblio.bib",
   "cite_by": "apalike",
   "current_citInitial": 1,
   "eqLabelWithNumbers": true,
   "eqNumInitial": 1,
   "hotkeys": {
    "equation": "Ctrl-E",
    "itemize": "Ctrl-I"
   },
   "labels_anchors": false,
   "latex_user_defs": false,
   "report_style_numbering": false,
   "user_envs_cfg": false
  }
 },
 "nbformat": 4,
 "nbformat_minor": 4
}
